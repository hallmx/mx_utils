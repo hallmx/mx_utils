{
 "cells": [
  {
   "cell_type": "code",
   "execution_count": null,
   "metadata": {},
   "outputs": [],
   "source": [
    "# default_exp log"
   ]
  },
  {
   "cell_type": "code",
   "execution_count": null,
   "metadata": {},
   "outputs": [],
   "source": [
    "#hide\n",
    "#test_flag_colab\n",
    "from google.colab import drive\n",
    "drive.mount('/content/drive')"
   ]
  },
  {
   "cell_type": "code",
   "execution_count": null,
   "metadata": {},
   "outputs": [],
   "source": [
    "#hide\n",
    "!pip install nbdev\n",
    "!pip install fastcore"
   ]
  },
  {
   "cell_type": "code",
   "execution_count": null,
   "metadata": {},
   "outputs": [],
   "source": [
    "#hide\n",
    "%cd /content/drive/My\\ Drive/mx_utils"
   ]
  },
  {
   "cell_type": "code",
   "execution_count": null,
   "metadata": {},
   "outputs": [],
   "source": [
    "#hide\n",
    "#test_flag_imports\n",
    "from nbdev import * \n",
    "from nbdev.showdoc import *\n",
    "from fastcore.test import *"
   ]
  },
  {
   "cell_type": "markdown",
   "metadata": {},
   "source": [
    "# Logging, exceptions & warnings.\n",
    "\n",
    "> logging with exception and warning handling\n"
   ]
  },
  {
   "cell_type": "markdown",
   "metadata": {},
   "source": [
    "## Manage warnings"
   ]
  },
  {
   "cell_type": "markdown",
   "metadata": {},
   "source": [
    "\n",
    "Warning catagory (class) | Description\n",
    "--- | ---\n",
    "Warning\t| This is the base class of all warning category classes. It is a subclass of Exception.\n",
    "UserWarning\t| The default category for warn().\n",
    "DeprecationWarning\t| Base category for warnings about deprecated features.\n",
    "SyntaxWarning\t| Base category for warnings about dubious syntactic features.\n",
    "RuntimeWarning\t| Base category for warnings about dubious runtime features.\n",
    "FutureWarning\t| Base category for warnings about constructs that will change semantically in the future\n",
    "https://docs.python.org/2.4/lib/warning-categories.html \n",
    "\n",
    "User code can define additional warning categories by subclassing one of the standard warning categories. A warning category must always be a subclass of the Warning class. \n",
    "\n"
   ]
  },
  {
   "cell_type": "code",
   "execution_count": null,
   "metadata": {},
   "outputs": [],
   "source": [
    "#exports\n",
    "def supress_warnings(categories=[]):\n",
    "  \"Supress python warnings either all [] or specific `catagories` of warning\"\n",
    "  import warnings\n",
    "  if cats == []: warnings.filterwarnings(\"ignore\")\n",
    "  else:\n",
    "    for cat in categories:\n",
    "      warnings.filterwarnings(action=\"ignore\", category=cat)"
   ]
  }
 ],
 "metadata": {
  "kernelspec": {
   "display_name": "Python 3",
   "language": "python",
   "name": "python3"
  }
 },
 "nbformat": 4,
 "nbformat_minor": 0
}
